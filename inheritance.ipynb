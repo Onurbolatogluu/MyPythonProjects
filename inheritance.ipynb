{
 "metadata": {
  "language_info": {
   "codemirror_mode": {
    "name": "ipython",
    "version": 3
   },
   "file_extension": ".py",
   "mimetype": "text/x-python",
   "name": "python",
   "nbconvert_exporter": "python",
   "pygments_lexer": "ipython3",
   "version": "3.9.0-final"
  },
  "orig_nbformat": 2,
  "kernelspec": {
   "name": "python3",
   "display_name": "Python 3.9.0 64-bit",
   "metadata": {
    "interpreter": {
     "hash": "6c8863bce62dd4d79ff55d5b6a7ee100e288555350d44519fe18082abd87223b"
    }
   }
  }
 },
 "nbformat": 4,
 "nbformat_minor": 2,
 "cells": [
  {
   "source": [
    "## inheretance bir sınıfın, başka bir sınıftan özelliklerini miras almasıdır."
   ],
   "cell_type": "markdown",
   "metadata": {}
  },
  {
   "source": [
    "### Örneğin, bir şirketin çalışanlarını tasarlamak için sınıflar oluşturuyoruz. Bunun için Yönetici, Proje Direktörü, İşçi gibi sınıflar oluşturmamız gerekiyor. Aslında baktığımız zaman bu sınıfların hepsinin belli ortak metodları ve özellikleri bulunuyor. O zaman bu ortak özellikleri ve metodları tekrar tekrar bu sınıfların içinde tanımlamak yerine, bir tane ana class tanımlayıp bu classların bu classın özelliklerini ve metodlarını almalarını sağlayabiliriz. Inheritance’ın veya Kalıtım’ın temel mantığı budur."
   ],
   "cell_type": "markdown",
   "metadata": {}
  },
  {
   "cell_type": "code",
   "execution_count": 1,
   "metadata": {},
   "outputs": [],
   "source": [
    "class Çalışan():\n",
    "    def __init__(self,isim,maaş,departman):\n",
    "        print(\"Çalışan sınıfının init fonksiyonu\")\n",
    "        self.isim = isim\n",
    "        self.maaş = maaş\n",
    "        self.departman = departman\n",
    "\n",
    "    def bilgilerigoster(self):\n",
    "        print(\"Çalışan sınıfının bilgileri.....\")\n",
    "        print(\"İsim : {} \\nMaaş: {} \\nDepartman: {}\\n\".format(self.isim,self.maaş,self.departman))\n",
    "        \n",
    "    def departman_degistir(self,yeni_departman):\n",
    "        print(\"Departman değişiyor....\")\n",
    "        self.departman = yeni_departman"
   ]
  },
  {
   "source": [
    "## Çalışan sınıfını oluşturduk şimdi de Yönetici sınıfını bu Çalışan sınıfından türetmeye çalışalım."
   ],
   "cell_type": "markdown",
   "metadata": {}
  },
  {
   "cell_type": "code",
   "execution_count": 2,
   "metadata": {},
   "outputs": [],
   "source": [
    "class Yönetici(Çalışan): # Çalışan sınıfından miras alıyoruz.\n",
    "    pass # Pass Deyimi bir bloğu sonradan tanımlamak istediğimizde kullanılan bir deyimdir."
   ]
  },
  {
   "source": [
    "### Burada, yönetici sınıfında herhangi bir şey tanımlamadık ancak Çalışan sınıfından bütün özellikleri ve metodları miras aldık. Bakalım burada Çalışan sınıfının metodlarını kullanabilecek miyiz ?"
   ],
   "cell_type": "markdown",
   "metadata": {}
  },
  {
   "cell_type": "code",
   "execution_count": 3,
   "metadata": {},
   "outputs": [
    {
     "output_type": "stream",
     "name": "stdout",
     "text": [
      "Çalışan sınıfının init fonksiyonu\n"
     ]
    }
   ],
   "source": [
    "yönetici1 = Yönetici(\"Mehmet Baltacı\",3000,\"İnsan Kaynakları\") # yönetici objesi"
   ]
  },
  {
   "cell_type": "code",
   "execution_count": 4,
   "metadata": {},
   "outputs": [
    {
     "output_type": "stream",
     "name": "stdout",
     "text": [
      "Çalışan sınıfının bilgileri.....\nİsim : Mehmet Baltacı \nMaaş: 3000 \nDepartman: İnsan Kaynakları\n\n"
     ]
    }
   ],
   "source": [
    "yönetici1.bilgilerigoster()"
   ]
  },
  {
   "cell_type": "code",
   "execution_count": 5,
   "metadata": {},
   "outputs": [
    {
     "output_type": "stream",
     "name": "stdout",
     "text": [
      "Departman değişiyor....\n"
     ]
    }
   ],
   "source": [
    "yönetici1.departman_degistir(\"Halkla İlişkiler\")"
   ]
  },
  {
   "cell_type": "code",
   "execution_count": 6,
   "metadata": {},
   "outputs": [
    {
     "output_type": "stream",
     "name": "stdout",
     "text": [
      "Çalışan sınıfının bilgileri.....\nİsim : Mehmet Baltacı \nMaaş: 3000 \nDepartman: Halkla İlişkiler\n\n"
     ]
    }
   ],
   "source": [
    "yönetici1.bilgilerigoster()"
   ]
  },
  {
   "source": [
    "### Burada gördüğümüz gibi bütün özellikleri ve metodları Çalışan sınıfından miras aldığımız için kullanabiliyoruz. Bunu dir() fonksiyonu ile de görebiliriz."
   ],
   "cell_type": "markdown",
   "metadata": {}
  },
  {
   "cell_type": "code",
   "execution_count": 7,
   "metadata": {},
   "outputs": [
    {
     "output_type": "stream",
     "name": "stdout",
     "text": [
      "['__class__', '__delattr__', '__dict__', '__dir__', '__doc__', '__eq__', '__format__', '__ge__', '__getattribute__', '__gt__', '__hash__', '__init__', '__init_subclass__', '__le__', '__lt__', '__module__', '__ne__', '__new__', '__reduce__', '__reduce_ex__', '__repr__', '__setattr__', '__sizeof__', '__str__', '__subclasshook__', '__weakref__', 'bilgilerigoster', 'departman', 'departman_degistir', 'isim', 'maaş']\n"
     ]
    }
   ],
   "source": [
    "print(dir(yönetici1))"
   ]
  },
  {
   "source": [
    "### Peki biz Yönetici sınıfına ekstra fonksiyonlar ve özellikler ekleyebiliyor muyuz ? Örnek olması açısından zam_yap isimli bir metod ekleyelim."
   ],
   "cell_type": "markdown",
   "metadata": {}
  },
  {
   "cell_type": "code",
   "execution_count": 9,
   "metadata": {},
   "outputs": [],
   "source": [
    "class Yönetici(Çalışan):\n",
    "    \n",
    "    def zam_yap(self,zam_miktarı):\n",
    "        print(\"Maaşa zam yapılıyor....\")\n",
    "        self.maaş += zam_miktarı  "
   ]
  },
  {
   "cell_type": "code",
   "execution_count": 10,
   "metadata": {},
   "outputs": [
    {
     "output_type": "stream",
     "name": "stdout",
     "text": [
      "Çalışan sınıfının init fonksiyonu\n"
     ]
    }
   ],
   "source": [
    "yönetici2 = Yönetici(\"Onur Bolatoglu\",3000,\"Bilişim\") # yönetici objesi"
   ]
  },
  {
   "cell_type": "code",
   "execution_count": 11,
   "metadata": {},
   "outputs": [
    {
     "output_type": "stream",
     "name": "stdout",
     "text": [
      "Çalışan sınıfının bilgileri.....\nİsim : Onur Bolatoglu \nMaaş: 3000 \nDepartman: Bilişim\n\n"
     ]
    }
   ],
   "source": [
    "yönetici2.bilgilerigoster()"
   ]
  },
  {
   "cell_type": "code",
   "execution_count": 12,
   "metadata": {},
   "outputs": [
    {
     "output_type": "stream",
     "name": "stdout",
     "text": [
      "Maaşa zam yapılıyor....\n"
     ]
    }
   ],
   "source": [
    "yönetici2.zam_yap(500) # Ekstra eklediğimiz fonksiyonu da kullanabiliyoruz."
   ]
  },
  {
   "cell_type": "code",
   "execution_count": 13,
   "metadata": {},
   "outputs": [
    {
     "output_type": "stream",
     "name": "stdout",
     "text": [
      "Çalışan sınıfının bilgileri.....\nİsim : Onur Bolatoglu \nMaaş: 3500 \nDepartman: Bilişim\n\n"
     ]
    }
   ],
   "source": [
    "yönetici2.bilgilerigoster()"
   ]
  },
  {
   "source": [
    "## İşte biz bir sınıftan miras alarak oluşturduğumuz sınıflara ekstra metodlar ve özellikler de ekleyebiliyoruz."
   ],
   "cell_type": "markdown",
   "metadata": {}
  },
  {
   "source": [
    "## Overriding (İptal Etme)\n",
    "\n",
    "### Eğer biz miras aldığımız metodları aynı isimle kendi sınıfımızda tekrar tanımlarsak , artık metodu çağırdığımız zaman miras aldığımız değil kendi metodumuz çalışacaktır. Buna Nesne Tabanlı Programlamada bir metodu override etmek denmektedir.\n",
    "\n",
    "### Örneğin artık Çalışan sınıfının init metodunu kullanmak yerine Yönetici sınıfında init metodunu override edebiliriz. Böylelikle Yönetici sınıfına ekstra özellikler(attribute) ekleyebiliriz."
   ],
   "cell_type": "markdown",
   "metadata": {}
  },
  {
   "cell_type": "code",
   "execution_count": 15,
   "metadata": {},
   "outputs": [],
   "source": [
    "class Çalışan():\n",
    "\n",
    "    def __init__(self,isim,maaş,departman):\n",
    "        print(\"Çalışan sınıfının init fonksiyonu\")\n",
    "        self.isim = isim\n",
    "        self.maaş = maaş\n",
    "        self.departman = departman\n",
    "\n",
    "    def bilgilerigoster(self):\n",
    "        print(\"Çalışan sınıfının bilgileri.....\")\n",
    "        print(\"İsim : {} \\nMaaş: {} \\nDepartman: {}\\n\".format(self.isim,self.maaş,self.departman))\n",
    "\n",
    "    def departman_degistir(self,yeni_departman):\n",
    "        print(\"Departman değişiyor....\")\n",
    "        self.departman = yeni_departman\n",
    "\n",
    "class Yönetici(Çalışan):\n",
    "    \n",
    "    def __init__(self,isim,maaş,departman,kişi_sayısı): # Sorumlu olduğu kişi sayısı\n",
    "        print(\"Yönetici sınıfının init fonksiyonu\")\n",
    "        self.isim = isim\n",
    "        self.maaş = maaş\n",
    "        self.departman = departman\n",
    "        self.kişi_sayısı = kişi_sayısı # Yeni eklenen özellik\n",
    "        \n",
    "    def zam_yap(self,zam_miktarı):\n",
    "        print(\"Maaşa zam yapılıyor....\")\n",
    "        self.maaş += zam_miktarı"
   ]
  },
  {
   "cell_type": "code",
   "execution_count": 16,
   "metadata": {},
   "outputs": [
    {
     "output_type": "stream",
     "name": "stdout",
     "text": [
      "Yönetici sınıfının init fonksiyonu\n"
     ]
    }
   ],
   "source": [
    "a = Yönetici(\"Onur Bolatoglu\",3000,\"Bilişim\",10) # Yönetici sınıfının init fonksiyonu. Override edildi."
   ]
  },
  {
   "source": [
    "### İsterseniz şimdi de bilgilerigoster metodunu override edelim.\n"
   ],
   "cell_type": "markdown",
   "metadata": {}
  },
  {
   "cell_type": "code",
   "execution_count": 17,
   "metadata": {},
   "outputs": [],
   "source": [
    "class Çalışan():\n",
    "    def __init__(self,isim,maaş,departman):\n",
    "        print(\"Çalışan sınıfının init fonksiyonu\")\n",
    "        self.isim = isim\n",
    "        self.maaş = maaş\n",
    "        self.departman = departman\n",
    "\n",
    "    def bilgilerigoster(self):\n",
    "        print(\"Çalışan sınıfının bilgileri.....\")\n",
    "        print(\"İsim : {} \\nMaaş: {} \\nDepartman: {}\\n\".format(self.isim,self.maaş,self.departman))\n",
    "\n",
    "    def departman_degistir(self,yeni_departman):\n",
    "        print(\"Departman değişiyor....\")\n",
    "        self.departman = yeni_departman\n",
    "\n",
    "class Yönetici(Çalışan):\n",
    "    \n",
    "    def __init__(self,isim,maaş,departman,kişi_sayısı): # Sorumlu olduğu kişi sayısı\n",
    "        print(\"Yönetici sınıfının init fonksiyonu\")\n",
    "        self.isim = isim\n",
    "        self.maaş = maaş\n",
    "        self.departman = departman\n",
    "        self.kişi_sayısı = kişi_sayısı # Yeni eklenen özellik\n",
    "\n",
    "    def bilgilerigoster(self):     \n",
    "        print(\"Yönetici sınıfının bilgileri.....\")     \n",
    "        print(\"İsim : {} \\nMaaş: {} \\nDepartman: {}\\nSorumlu kişi sayısı: {}\".format(self.isim,self.maaş,self.departman,self.kişi_sayısı))\n",
    "        \n",
    "    def zam_yap(self,zam_miktarı):\n",
    "        print(\"Maaşa zam yapılıyor....\")\n",
    "        self.maaş += zam_miktarı"
   ]
  },
  {
   "source": [
    "b =  Yönetici(\"Serhat Say\",2500,\"Pazarlama\",5)"
   ],
   "cell_type": "code",
   "metadata": {},
   "execution_count": 18,
   "outputs": [
    {
     "output_type": "stream",
     "name": "stdout",
     "text": [
      "Yönetici sınıfının init fonksiyonu\n"
     ]
    }
   ]
  },
  {
   "source": [
    "## super Anahtar Kelimesi\n",
    "\n",
    "### super anahtar kelimesi özellikle override ettiğimiz bir metodun içinde aynı zamanda miras aldığımız bir metodu kullanmak istersek kullanılabilir. Yani super en genel anlamıyla miras aldığımız sınıfın metodlarını alt sınıflardan kullanmamızı sağlar. Hemen örnek üzerinden anlamaya çalışalım."
   ],
   "cell_type": "markdown",
   "metadata": {}
  },
  {
   "cell_type": "code",
   "execution_count": 31,
   "metadata": {},
   "outputs": [],
   "source": [
    "class Çalışan():\n",
    "    def __init__(self,isim,maaş,departman):\n",
    "        print(\"Çalışan sınıfının init fonksiyonu\")\n",
    "        self.isim = isim\n",
    "        self.maaş = maaş\n",
    "        self.departman = departman\n",
    "\n",
    "    def bilgilerigoster(self):\n",
    "        print(\"Çalışan sınıfının bilgileri.....\")\n",
    "        print(\"İsim : {} \\nMaaş: {} \\nDepartman: {}\\n\".format(self.isim,self.maaş,self.departman))\n",
    "\n",
    "    def departman_degistir(self,yeni_departman):\n",
    "        print(\"Departman değişiyor....\")\n",
    "        self.departman = yeni_departman\n",
    " \n",
    "class Yönetici(Çalışan):\n",
    "    \n",
    "    def __init__(self,isim,maaş,departman,kişi_sayısı): # Sorumlu olduğu kişi sayısı\n",
    "        super().__init__(isim,maaş,departman) # 3 tane özelliği Çalışan fonksiyonunun init fonksiyonuyla hallediyoruz.  \n",
    "        print(\"Yönetici sınıfının init fonksiyonu\")\n",
    "        self.kişi_sayısı = kişi_sayısı # Ekstra özelliği de kendimiz yazıyoruz.\n",
    "\n",
    "    def bilgilerigoster(self): \n",
    "        print(\"Yönetici sınıfının bilgileri.....\")   \n",
    "        print(\"İsim : {} \\nMaaş: {} \\nDepartman: {}\\nSorumlu kişi sayısı: {}\".format(self.isim,self.maaş,self.departman,self.kişi_sayısı))\n",
    "\n",
    "    def zam_yap(self,zam_miktarı):\n",
    "        print(\"Maaşa zam yapılıyor....\")\n",
    "        self.maaş += zam_miktarı"
   ]
  },
  {
   "source": [
    "## Burada super().__init() diyerek Çalışan sınıfının metodunu özel olarak çağırarak isim, maaş , departman özelliklerini bu metodla belirledik."
   ],
   "cell_type": "markdown",
   "metadata": {}
  },
  {
   "cell_type": "code",
   "execution_count": 32,
   "metadata": {},
   "outputs": [
    {
     "output_type": "stream",
     "name": "stdout",
     "text": [
      "Çalışan sınıfının init fonksiyonu\nYönetici sınıfının init fonksiyonu\n"
     ]
    }
   ],
   "source": [
    "c = Yönetici(\"Oğuz Artıran\",3000,\"İnsan Kaynakları\",4)"
   ]
  },
  {
   "cell_type": "code",
   "execution_count": 42,
   "metadata": {},
   "outputs": [],
   "source": [
    "class Çalışan():\n",
    "    def __init__(self,isim,maaş,departman):\n",
    "        print(\"Çalışan sınıfının init fonksiyonu\")\n",
    "        self.isim = isim\n",
    "        self.maaş = maaş\n",
    "        self.departman = departman\n",
    "\n",
    "    def bilgilerigoster(self):\n",
    "        print(\"Çalışan sınıfının bilgileri.....\")\n",
    "        print(\"İsim : {} \\nMaaş: {} \\nDepartman: {}\\n\".format(self.isim,self.maaş,self.departman))\n",
    "\n",
    "    def departman_degistir(self,yeni_departman):\n",
    "        print(\"Departman değişiyor....\")\n",
    "        self.departman = yeni_departman\n",
    " \n",
    "class Yönetici(Çalışan):\n",
    "    \n",
    "    def __init__(self,isim,maaş,departman,kişi_sayısı,memleket): # Sorumlu olduğu kişi sayısı\n",
    "        super().__init__(isim,maaş,departman) # 3 tane özelliği Çalışan fonksiyonunun init fonksiyonuyla hallediyoruz.  \n",
    "        print(\"Yönetici sınıfının init fonksiyonu\")\n",
    "        self.kişi_sayısı = kişi_sayısı # Ekstra özelliği de kendimiz yazıyoruz.\n",
    "        self.memleket = memleket # Ekstra özelliği de kendimiz yazıyoruz.\n",
    "\n",
    "    def bilgilerigoster(self): \n",
    "        print(\"Yönetici sınıfının bilgileri.....\")   \n",
    "        print(\"İsim : {} \\nMaaş: {} \\nDepartman: {}\\nSorumlu kişi sayısı: {} \\nMemleket: {}\".format(self.isim,self.maaş,self.departman,self.kişi_sayısı,self.memleket))\n",
    "\n",
    "    def zam_yap(self,zam_miktarı):\n",
    "        print(\"Maaşa zam yapılıyor....\")\n",
    "        self.maaş += zam_miktarı"
   ]
  },
  {
   "cell_type": "code",
   "execution_count": 43,
   "metadata": {},
   "outputs": [
    {
     "output_type": "stream",
     "name": "stdout",
     "text": [
      "Çalışan sınıfının init fonksiyonu\nYönetici sınıfının init fonksiyonu\n"
     ]
    }
   ],
   "source": [
    "d = Yönetici(\"Oğuz Artıran\",3000,\"İnsan Kaynakları\",4,\"Sinop\")"
   ]
  },
  {
   "cell_type": "code",
   "execution_count": 44,
   "metadata": {},
   "outputs": [
    {
     "output_type": "stream",
     "name": "stdout",
     "text": [
      "Yönetici sınıfının bilgileri.....\nİsim : Oğuz Artıran \nMaaş: 3000 \nDepartman: İnsan Kaynakları\nSorumlu kişi sayısı: 4 \nMemleket: Sinop\n"
     ]
    }
   ],
   "source": [
    "d.bilgilerigoster()"
   ]
  },
  {
   "source": [
    "## override edince tüm özellikleri baştan tanımladık.. çünkü init fonksiyonunu en baştan tanımladık..\n",
    "\n",
    "## super yaptığımızda ise bir nevi özellik ekliyoruz.. yani üst sınıfın özelliklerini kısa yoldan alıp, üstüne sadece yeni özellikleri ekliyoruz.."
   ],
   "cell_type": "markdown",
   "metadata": {}
  },
  {
   "cell_type": "code",
   "execution_count": null,
   "metadata": {},
   "outputs": [],
   "source": []
  }
 ]
}
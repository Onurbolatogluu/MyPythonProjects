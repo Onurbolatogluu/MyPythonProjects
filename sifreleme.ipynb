{
 "metadata": {
  "language_info": {
   "codemirror_mode": {
    "name": "ipython",
    "version": 3
   },
   "file_extension": ".py",
   "mimetype": "text/x-python",
   "name": "python",
   "nbconvert_exporter": "python",
   "pygments_lexer": "ipython3",
   "version": "3.9.0-final"
  },
  "orig_nbformat": 2,
  "kernelspec": {
   "name": "python3",
   "display_name": "Python 3.9.0 64-bit",
   "metadata": {
    "interpreter": {
     "hash": "6c8863bce62dd4d79ff55d5b6a7ee100e288555350d44519fe18082abd87223b"
    }
   }
  }
 },
 "nbformat": 4,
 "nbformat_minor": 2,
 "cells": [
  {
   "cell_type": "code",
   "execution_count": 1,
   "metadata": {},
   "outputs": [
    {
     "output_type": "stream",
     "name": "stdout",
     "text": [
      "0\nd\n"
     ]
    }
   ],
   "source": [
    "kucuk_harfler = \"abcdefghijklmnopqrstuvwxyz abc\"\n",
    "cumle = input(\"Cümle: \")\n",
    "yenicumle = \"\"\n",
    "\n",
    "for i in cumle:\n",
    "    if i in kucuk_harfler:\n",
    "        index = kucuk_harfler.index(i)\n",
    "        print(index)\n",
    "        yenicumle += kucuk_harfler[index + 3] #Kucuk harfler yazi dizisini kullanarak, index değişkenini +3 arttırıp yeni cümle değişkenine atadık. Yani index değişkenimizi kucukharfler değişkeninin de bulunan indexleri kullanarak +3 ilerlettik(topladık..)\n",
    "        print(yenicumle)"
   ]
  },
  {
   "cell_type": "code",
   "execution_count": null,
   "metadata": {},
   "outputs": [],
   "source": []
  }
 ]
}
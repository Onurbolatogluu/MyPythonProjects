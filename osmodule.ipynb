{
 "metadata": {
  "language_info": {
   "codemirror_mode": {
    "name": "ipython",
    "version": 3
   },
   "file_extension": ".py",
   "mimetype": "text/x-python",
   "name": "python",
   "nbconvert_exporter": "python",
   "pygments_lexer": "ipython3",
   "version": "3.9.2-final"
  },
  "orig_nbformat": 2,
  "kernelspec": {
   "name": "python3",
   "display_name": "Python 3.9.2 64-bit",
   "metadata": {
    "interpreter": {
     "hash": "6c8863bce62dd4d79ff55d5b6a7ee100e288555350d44519fe18082abd87223b"
    }
   }
  }
 },
 "nbformat": 4,
 "nbformat_minor": 2,
 "cells": [
  {
   "cell_type": "code",
   "execution_count": 26,
   "metadata": {},
   "outputs": [],
   "source": [
    "import os # Os modülünü kodumuza dahil ettik.\n",
    "from datetime import datetime"
   ]
  },
  {
   "cell_type": "code",
   "execution_count": 2,
   "metadata": {},
   "outputs": [
    {
     "output_type": "stream",
     "name": "stdout",
     "text": [
      "['DirEntry', 'F_OK', 'GenericAlias', 'Mapping', 'MutableMapping', 'O_APPEND', 'O_BINARY', 'O_CREAT', 'O_EXCL', 'O_NOINHERIT', 'O_RANDOM', 'O_RDONLY', 'O_RDWR', 'O_SEQUENTIAL', 'O_SHORT_LIVED', 'O_TEMPORARY', 'O_TEXT', 'O_TRUNC', 'O_WRONLY', 'P_DETACH', 'P_NOWAIT', 'P_NOWAITO', 'P_OVERLAY', 'P_WAIT', 'PathLike', 'R_OK', 'SEEK_CUR', 'SEEK_END', 'SEEK_SET', 'TMP_MAX', 'W_OK', 'X_OK', '_AddedDllDirectory', '_Environ', '__all__', '__builtins__', '__cached__', '__doc__', '__file__', '__loader__', '__name__', '__package__', '__spec__', '_check_methods', '_execvpe', '_exists', '_exit', '_fspath', '_get_exports_list', '_walk', '_wrap_close', 'abc', 'abort', 'access', 'add_dll_directory', 'altsep', 'chdir', 'chmod', 'close', 'closerange', 'cpu_count', 'curdir', 'defpath', 'device_encoding', 'devnull', 'dup', 'dup2', 'environ', 'error', 'execl', 'execle', 'execlp', 'execlpe', 'execv', 'execve', 'execvp', 'execvpe', 'extsep', 'fdopen', 'fsdecode', 'fsencode', 'fspath', 'fstat', 'fsync', 'ftruncate', 'get_exec_path', 'get_handle_inheritable', 'get_inheritable', 'get_terminal_size', 'getcwd', 'getcwdb', 'getenv', 'getlogin', 'getpid', 'getppid', 'isatty', 'kill', 'linesep', 'link', 'listdir', 'lseek', 'lstat', 'makedirs', 'mkdir', 'name', 'open', 'pardir', 'path', 'pathsep', 'pipe', 'popen', 'putenv', 'read', 'readlink', 'remove', 'removedirs', 'rename', 'renames', 'replace', 'rmdir', 'scandir', 'sep', 'set_handle_inheritable', 'set_inheritable', 'spawnl', 'spawnle', 'spawnv', 'spawnve', 'st', 'startfile', 'stat', 'stat_result', 'statvfs_result', 'strerror', 'supports_bytes_environ', 'supports_dir_fd', 'supports_effective_ids', 'supports_fd', 'supports_follow_symlinks', 'symlink', 'sys', 'system', 'terminal_size', 'times', 'times_result', 'truncate', 'umask', 'uname_result', 'unlink', 'unsetenv', 'urandom', 'utime', 'waitpid', 'waitstatus_to_exitcode', 'walk', 'write']\n"
     ]
    }
   ],
   "source": [
    "print(dir(os)) # Os modülünün fonksiyonlarını gözlemledik."
   ]
  },
  {
   "cell_type": "code",
   "execution_count": 22,
   "metadata": {},
   "outputs": [
    {
     "output_type": "stream",
     "name": "stdout",
     "text": [
      "c:\\Users\\sanal\\VSCode-WorkSpace\\WorkSpace-5\\ilk-proje\n"
     ]
    }
   ],
   "source": [
    "print(os.getcwd()) # Kodumuzun bulunduğu dizini öğrenmek için kullandığımız satır."
   ]
  },
  {
   "cell_type": "code",
   "execution_count": 7,
   "metadata": {},
   "outputs": [
    {
     "output_type": "stream",
     "name": "stdout",
     "text": [
      "c:\\Users\\sanal\\VSCode-WorkSpace\\WorkSpace-5\n"
     ]
    }
   ],
   "source": [
    "os.chdir(\"c:/Users/sanal/VSCode-WorkSpace/WorkSpace-5\") # Bulunduğumuz dizini değiştirdik.\n",
    "print(os.getcwd())"
   ]
  },
  {
   "cell_type": "code",
   "execution_count": 8,
   "metadata": {},
   "outputs": [
    {
     "output_type": "stream",
     "name": "stdout",
     "text": [
      "['ilk-proje', 'pythondosya']\n"
     ]
    }
   ],
   "source": [
    "print(os.listdir()) # Bulunduğumuz dizin de varolan elamanları listeledik."
   ]
  },
  {
   "cell_type": "code",
   "execution_count": 9,
   "metadata": {},
   "outputs": [
    {
     "output_type": "stream",
     "name": "stdout",
     "text": [
      "ilk-proje\npythondosya\n"
     ]
    }
   ],
   "source": [
    "for i in os.listdir(): # Daha düzgün görüntülemek için for ile listdir metodumuzun bulduğu elamanlar üzerinde gezinebiliriz.\n",
    "    print(i)"
   ]
  },
  {
   "cell_type": "code",
   "execution_count": 10,
   "metadata": {},
   "outputs": [
    {
     "output_type": "stream",
     "name": "stdout",
     "text": [
      "c:\\Users\\sanal\\VSCode-WorkSpace\\WorkSpace-5\\ilk-proje\n"
     ]
    }
   ],
   "source": [
    "os.chdir(\"c:/Users/sanal/VSCode-WorkSpace/WorkSpace-5/ilk-proje\") #Önceki dizinimize geri döndük, buradan çalışacağız.\n",
    "print(os.getcwd())"
   ]
  },
  {
   "cell_type": "code",
   "execution_count": 16,
   "metadata": {},
   "outputs": [],
   "source": [
    "os.mkdir(\"Os Modülü ile Oluşturuldu\") # Bulunduğumuz dizinde yeni bir klasör oluşturduk. () içerisine yeni klasörümüzün ismini girdik. Not, iç içe yeni dizinler oluşturamayız. yani aşağıda makedirs 'de yaptığımız gibi.."
   ]
  },
  {
   "cell_type": "code",
   "execution_count": 17,
   "metadata": {},
   "outputs": [],
   "source": [
    "os.makedirs(\"Os Modülü-1/Os Modülü-2\") # makedirs ile iç içe yeni dizinler oluşturabiliriz. Böylelikle ilk önce Os Modülü-1 oluşacak, ardından içerisine Os Modülü-2 dizinini oluşacak."
   ]
  },
  {
   "cell_type": "code",
   "execution_count": 19,
   "metadata": {},
   "outputs": [],
   "source": [
    "os.rmdir(\"Os Modülü-1/Os Modülü-2\") # rmdir ile dizinleri silebiliriz. Az önce oluşturduğumuz içe içe dizinlerden Os Modülü-2 dizinini sildik."
   ]
  },
  {
   "cell_type": "code",
   "execution_count": 20,
   "metadata": {},
   "outputs": [],
   "source": [
    "os.mkdir(\"Os Modülü-1/Os Modülü-2\") # Sildiğimiz dizini tekrar oluşturduk."
   ]
  },
  {
   "cell_type": "code",
   "execution_count": 21,
   "metadata": {},
   "outputs": [],
   "source": [
    "os.removedirs(\"Os Modülü-1/Os Modülü-2\") # removedirs ile alt alta olan tüm dizinleri tamamen silebiliriz. (rmdir ile sadece belirttiğimiz dizini silebiliyorduk.)"
   ]
  },
  {
   "cell_type": "code",
   "execution_count": 23,
   "metadata": {},
   "outputs": [],
   "source": [
    "os.rename(\"osmodul.txt\",\"osmodul-2.txt\") # Bulunduğumuz dizindeki dosyaların isimlerini güncelleyebiliriz. (eskisim,yeniisim)"
   ]
  },
  {
   "cell_type": "code",
   "execution_count": 24,
   "metadata": {},
   "outputs": [
    {
     "output_type": "stream",
     "name": "stdout",
     "text": [
      "os.stat_result(st_mode=33206, st_ino=16325548649242653, st_dev=410788505, st_nlink=1, st_uid=0, st_gid=0, st_size=11, st_atime=1616517516, st_mtime=1616517451, st_ctime=1616517395)\n"
     ]
    }
   ],
   "source": [
    "print(os.stat(\"osmodul-2.txt\")) # Belirttiğimiz dosyanın tüm özelliklerini görebiliriz. "
   ]
  },
  {
   "cell_type": "code",
   "execution_count": 25,
   "metadata": {},
   "outputs": [
    {
     "output_type": "stream",
     "name": "stdout",
     "text": [
      "1616517451.784484\n"
     ]
    }
   ],
   "source": [
    "print(os.stat(\"osmodul-2.txt\").st_mtime) #Belirttiğimiz dosyanın değiştirilme zamanının saniye cinsinsen bilgisine ulaşıyoruz. .st_mtime yerine yukarıda bulunan farklı değerlerin isimlerini girip o değere direkt olarak ulaşabiliriz."
   ]
  },
  {
   "cell_type": "code",
   "execution_count": 27,
   "metadata": {},
   "outputs": [
    {
     "output_type": "stream",
     "name": "stdout",
     "text": [
      "2021-03-23 19:37:31.784484\n"
     ]
    }
   ],
   "source": [
    "print(datetime.fromtimestamp(os.stat(\"osmodul-2.txt\").st_mtime)) # Dosyamızın değiştirilme zamanı saniye cinsinden çok okunaklı ve güzel gözükmüyordu. kodumuza datetime modülünü ekledik ve daha okunaklı görüntüledik. Yukarıda çalıştırdığımız kodumuzu datetime fonksiyonumuza gönderdik ve okunaklı bir değer aldık. "
   ]
  },
  {
   "cell_type": "code",
   "execution_count": 37,
   "metadata": {},
   "outputs": [
    {
     "output_type": "stream",
     "name": "stdout",
     "text": [
      "<generator object _walk at 0x0000018860A89120>\n"
     ]
    }
   ],
   "source": [
    "print(os.walk(\"c:/Users/sanal/VSCode-WorkSpace/WorkSpace-5/ilk-proje/.idea\")) # walk ile belirttiğimiz dizin üzerindeki dosyaların dizinlerin üzerinde tek tek geziniyoruz. \n",
    "# liste olarak değer dönüyor. ve listenin her bir elemanın klasörün yolunu gösteren ve klasörün altındaki dosya isimleri ve klasör isimlerini gösteren bir tane demetimiz oluyor."
   ]
  },
  {
   "cell_type": "code",
   "execution_count": 41,
   "metadata": {},
   "outputs": [
    {
     "output_type": "stream",
     "name": "stdout",
     "text": [
      "Klasör Yolu c:/Users/sanal/VSCode-WorkSpace/WorkSpace-5/ilk-proje/.idea\nKlasör İsimleri ['inspectionProfiles']\nDosya İsimleri ['.gitignore', '.name', 'csv-plugin.xml', 'ilk-proje.iml', 'misc.xml', 'modules.xml', 'workspace.xml']\n****************************************************\nKlasör Yolu c:/Users/sanal/VSCode-WorkSpace/WorkSpace-5/ilk-proje/.idea\\inspectionProfiles\nKlasör İsimleri []\nDosya İsimleri ['profiles_settings.xml']\n****************************************************\n"
     ]
    }
   ],
   "source": [
    "for klasör_yolu,klasör_isimleri,dosya_isimleri in os.walk(\"c:/Users/sanal/VSCode-WorkSpace/WorkSpace-5/ilk-proje/.idea\"):\n",
    "    print(\"Klasör Yolu\",klasör_yolu)\n",
    "    print(\"Klasör İsimleri\",klasör_isimleri)\n",
    "    print(\"Dosya İsimleri\",dosya_isimleri) \n",
    "    print(\"****************************************************\")\n",
    "    \n",
    "# 1.eleman olan klasör yolu demet olarak, elaman isimleri liste olarak gelir.    \n",
    "# Her bir elemanımız demet olduğu için elamanları daha düzgün ayrı ayrı alabiliriz.\n",
    "# Her bir i değeri demet olarak gelmiş oldu. Ve her bir demetin ilk elemanı bizim bulunduğumuz klasörümüzdür.\n",
    "# os.walk ile gezindiğimiz elamanlar üzerinde for döngüsü ile ekrana bastırdık."
   ]
  },
  {
   "cell_type": "code",
   "execution_count": 4,
   "metadata": {},
   "outputs": [
    {
     "output_type": "stream",
     "name": "stdout",
     "text": [
      "('c:/Users/sanal/VSCode-WorkSpace/WorkSpace-5/ilk-proje/.idea', ['inspectionProfiles'], ['.gitignore', '.name', 'csv-plugin.xml', 'ilk-proje.iml', 'misc.xml', 'modules.xml', 'workspace.xml'])\n('c:/Users/sanal/VSCode-WorkSpace/WorkSpace-5/ilk-proje/.idea\\\\inspectionProfiles', [], ['profiles_settings.xml'])\n"
     ]
    }
   ],
   "source": [
    "for i in os.walk(\"c:/Users/sanal/VSCode-WorkSpace/WorkSpace-5/ilk-proje/.idea\"):\n",
    "    print(i)"
   ]
  },
  {
   "cell_type": "code",
   "execution_count": 12,
   "metadata": {},
   "outputs": [
    {
     "output_type": "stream",
     "name": "stdout",
     "text": [
      "inspectionProfiles\n"
     ]
    }
   ],
   "source": [
    "for klasör_yolu,klasör_isimleri,dosya_isimler in os.walk(\"c:/Users/sanal/VSCode-WorkSpace/WorkSpace-5/ilk-proje/.idea\"):\n",
    "    for i in klasör_isimleri:\n",
    "            print(i)\n",
    "\n",
    "# İstersek sadece klasör isimlerini gösterebiliriz. Bunun için iç içe for döngüsü işimize yarayacaktır.\n",
    "# Sonucumuz sadece belirttiğimiz dizinde klasörler olacaktır."
   ]
  },
  {
   "cell_type": "code",
   "execution_count": 14,
   "metadata": {},
   "outputs": [
    {
     "output_type": "stream",
     "name": "stdout",
     "text": [
      "ilk-proje.iml\n"
     ]
    }
   ],
   "source": [
    "for klasör_yolu,klasör_isimleri,dosya_isimler in os.walk(\"c:/Users/sanal/VSCode-WorkSpace/WorkSpace-5/ilk-proje/.idea\"):\n",
    "    for i in dosya_isimler:\n",
    "        if (i.endswith(\".iml\")):\n",
    "            print(i)\n",
    "\n",
    "    # Dosyalarımız içerisinde sadece (.iml) ile bitenleri ekrana bastırdık. Böylelikle filtreleme yapabildik."
   ]
  },
  {
   "cell_type": "code",
   "execution_count": null,
   "metadata": {},
   "outputs": [],
   "source": []
  }
 ]
}
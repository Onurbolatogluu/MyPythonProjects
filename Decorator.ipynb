{
 "metadata": {
  "language_info": {
   "codemirror_mode": {
    "name": "ipython",
    "version": 3
   },
   "file_extension": ".py",
   "mimetype": "text/x-python",
   "name": "python",
   "nbconvert_exporter": "python",
   "pygments_lexer": "ipython3",
   "version": 3
  },
  "orig_nbformat": 2
 },
 "nbformat": 4,
 "nbformat_minor": 2,
 "cells": [
  {
   "cell_type": "code",
   "execution_count": null,
   "metadata": {},
   "outputs": [],
   "source": [
    "import time\n",
    "def zaman_hesapla(fonksiyon): #örneğin karaleri hesapla fonsksiyonumuz çalıştığında kareleri hesapla fonksiyonumuz. zaman hesapla fonksiyonumuza parametre olarak gönderilecek.\n",
    "    def wrapper(sayılar): #Decarator fonksiyon olması için wrapper olarak ismini belirtiyoruz. ve bu fonksiyon içerisine sayılar değerini alacak. ve bu aşağıda tanımladığımız fonksiyonlara verdiğimiz sayılar buraya argüman olarak python tarafından gönderilecek.\n",
    "        \n",
    "        \n",
    "        baslama = time.time() # Zaman hesabı\n",
    "        sonuç =  fonksiyon(sayılar) # Sonuç değerimizi almak için yukarıda zamanhesapla fonksiyonumuza gönderdiğimiz fonksiyonu alıp argüman olarak sayıları verip sonucu ögreniyoruz.\n",
    "        bitis =  time.time() # Zaman hesabı\n",
    "        print(fonksiyon.__name__ + \" \" + str(bitis-baslama) + \" saniye sürdü.\") # Sonucu öğren ve ekrana bastır. # fonksiyon.__name__ işlemi yukarıda zamanhesapla fonksiyonumuza argüman olarak gönderdiğimiz fonksiyonun ismini öğrenmemize yarar. Ve böylecek ekrana hangi fonksiyon çalıştıysa ekrana bastırabiliriz.\n",
    "\n",
    "        return sonuç # Yukarıda aldığımız sonuç listesini döndürüyoruz.\n",
    "    return wrapper # Zaman hesapla fonksiyonumuz içerisine burada kullandığımız fonksiyonu ve sonucu döndürüyoruz.\n",
    "    \n",
    "@zaman_hesapla # Decorate etmek istediğimiz fonksiyonumuzun üzerine @decorate olarak tanımladığımız fonksiyonu yazıyoruz. Yani decorator olarak çalışacak fonksiyonumuzu @ işareti ile birlikte yazıyoruz. Böylelikle ek özellik eklemiş oluyoruz fonksiyonumuza.\n",
    "def kareleri_hesapla(sayılar):\n",
    "    sonuç = []\n",
    "    for i in sayılar:\n",
    "        sonuç.append(i ** 2)\n",
    "    return sonuç\n",
    "@zaman_hesapla # Decorate etmek istediğimiz fonksiyonumuzun üzerine @decorate olarak tanımladığımız fonksiyonu yazıyoruz. Yani decorator olarak çalışacak fonksiyonumuzu @ işareti ile birlikte yazıyoruz. Böylelikle ek özellik eklemiş oluyoruz fonksiyonumuza.\n",
    "def küpleri_hesapla(sayılar):\n",
    "    sonuç = []\n",
    "    for i in sayılar:\n",
    "        sonuç.append(i ** 3)\n",
    "    return sonuç\n",
    "    \n",
    "\n",
    "kareleri_hesapla(range(100000))\n",
    "\n",
    "küpleri_hesapla(range(100000))"
   ]
  },
  {
   "source": [
    "### Burada **zaman_hesapla()** isimli decorator bir fonksiyon yazdık.  Örneğin ***kareleri_hesapla(range(100000))*** fonksiyonu çağrılırken aslında senaryomuz şu şekilde çalışıyor;\n",
    "\n",
    "            1. kareleri_hesapla fonksiyonu zaman_hesapla fonksiyonuna argüman olarak gidiyor.\n",
    "            2. wrapper fonksiyonu kareleri_hesapla fonksiyonuna argüman olarak gönderilen \n",
    "            \"sayılar\" argümanını argüman olarak alıyor.sd\n",
    "            3. wrapper fonksiyonu hem zaman hesaplama işlemini gerçekleştiriyor,hem de gönderilen\n",
    "            fonksiyonu çalıştırıyor. Böylelikle bu fonksiyona ekstra özellik ekliyor.\n",
    "            4.zaman_hesaplama fonksiyonu en son işlem olarak wrapper fonksiyonumuzu dönüyor.\n",
    "            \n",
    "            \n",
    "### İşte decorator fonksiyonlarımızın aslında işlevi tamamıyla bu şekilde. Burada gördüğümüz gibi decoratorlar sayesinde, hem kod tekrarından kurtulduk,  hem de zaman hesaplama işlemimizi decorator fonksiyonumuzda gerçekleştirdik."
   ],
   "cell_type": "markdown",
   "metadata": {}
  }
 ]
}
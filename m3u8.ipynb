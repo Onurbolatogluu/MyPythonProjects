{
 "metadata": {
  "language_info": {
   "codemirror_mode": {
    "name": "ipython",
    "version": 3
   },
   "file_extension": ".py",
   "mimetype": "text/x-python",
   "name": "python",
   "nbconvert_exporter": "python",
   "pygments_lexer": "ipython3",
   "version": "3.9.2-final"
  },
  "orig_nbformat": 2,
  "kernelspec": {
   "name": "python3",
   "display_name": "Python 3.9.2 64-bit",
   "metadata": {
    "interpreter": {
     "hash": "6c8863bce62dd4d79ff55d5b6a7ee100e288555350d44519fe18082abd87223b"
    }
   }
  }
 },
 "nbformat": 4,
 "nbformat_minor": 2,
 "cells": [
  {
   "cell_type": "code",
   "execution_count": null,
   "metadata": {},
   "outputs": [],
   "source": [
    "stream = []\n",
    "with open(\"C:/Users/sanal/VSCode-WorkSpace/WorkSpace-5/ilk-proje/playlist1.m3u8\",encoding=\"utf-8\") as f:\n",
    "    file = f.readlines()\n",
    "for i in range(0, len(file)-1, 2):\n",
    "    print(file[i])\n",
    "    print(file[i+1])\n",
    "    file[i] = file[i].strip()\n",
    "    file[i] = file[i].strip(\"#EXTINF:-1,\")\n",
    "    stream.append(file[i] + \" = \" + file[i+1])\n",
    "\n",
    "#stream adında bir boş liste oluşturduk.\n",
    "#With open ile .m3u8 uzantılı dosyamızı açtık ve f değişkenine atadık.\n",
    "#Dosyamızı readlines ile okuyarak liste haline getirdik.\n",
    "#For ile döngü başlatıp, range ile bu döngü için bir uzunluk verdik. Bu uzunluk ise kullandığımız dosyanın satır uzunluğu ile aynı. ve satırlar arası 2şer olarak atladık. 0-2-4 gibi..\n",
    "#file[i] = file[i].strip ile o an file değişkenin i'ninci değerinde bulunan değerin boşluklarını sildik.\n",
    "#file[i] = file[i].strip(\"#EXTINF:1,\") ile o an file değişkeninin i'ninci değerinde bulunan parantez içerisinnde verdiğimiz stringi sildik.\n",
    "#Dosyamızı kırptıktan sonra file[i]ninci değeri ile file[i+1]inci değerini toplayıp stream listesine append metodu ile ekledik.\n",
    "#Not file[i] liste içerisinde bulunan ilk index'i yani ilk elemanı alırız. file[i+1] ile liste içerisinde 1.elemanı alırız."
   ]
  },
  {
   "cell_type": "code",
   "execution_count": null,
   "metadata": {},
   "outputs": [],
   "source": []
  }
 ]
}

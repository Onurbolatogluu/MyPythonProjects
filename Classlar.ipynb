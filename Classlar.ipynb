{
 "metadata": {
  "language_info": {
   "codemirror_mode": {
    "name": "ipython",
    "version": 3
   },
   "file_extension": ".py",
   "mimetype": "text/x-python",
   "name": "python",
   "nbconvert_exporter": "python",
   "pygments_lexer": "ipython3",
   "version": "3.9.0-final"
  },
  "orig_nbformat": 2,
  "kernelspec": {
   "name": "python3",
   "display_name": "Python 3.9.0 64-bit",
   "metadata": {
    "interpreter": {
     "hash": "6c8863bce62dd4d79ff55d5b6a7ee100e288555350d44519fe18082abd87223b"
    }
   }
  }
 },
 "nbformat": 4,
 "nbformat_minor": 2,
 "cells": [
  {
   "source": [
    "## Pythondaki aslında her şey bir objedir. Örneğin, listelere bakacak olursak bu liste objelerinin aslında birçok metodu ve özelliği bulunur."
   ],
   "cell_type": "markdown",
   "metadata": {}
  },
  {
   "cell_type": "code",
   "execution_count": null,
   "metadata": {},
   "outputs": [],
   "source": [
    "liste = [1,2,3,4,5]  # Liste objesi oluşturmak\n",
    "liste.append(6) # Append metodu"
   ]
  },
  {
   "cell_type": "code",
   "execution_count": null,
   "metadata": {},
   "outputs": [],
   "source": [
    "def toplama(a,b):\n",
    "    return a + b\n",
    "print(type(toplama)) # Fonksiyon objesi"
   ]
  },
  {
   "source": [
    "### Etrafımıza baktığımızda aslında her bir eşyanın bir obje olduğunu görüyoruz. Örneğin bir tane televizyon kumandasını düşünelim. Bu kumandanın kendi içinde değişik özellikleri (attribute) ve fonksiyonları(metod) bulunuyor. Örneğin, kumandanın markası, tuşları aslında bu kumandanın özellikleridir(attribute). Kumandanın kırmızı tuşuna bastığımızda televizyonun kapanması ve sesi kapatma tuşuna bastığımızda televizyonun sesinin kapanması bu kumandanın metodlarıdır. Bunun gibi Pythondaki aslında her şey bir objedir. Örneğin, listelere bakacak olursak bu liste objelerinin aslında birçok metodu ve özelliği bulunur."
   ],
   "cell_type": "markdown",
   "metadata": {}
  },
  {
   "cell_type": "code",
   "execution_count": null,
   "metadata": {},
   "outputs": [],
   "source": [
    "print(type(liste)) # liste objesi"
   ]
  },
  {
   "source": [
    "## Sınıflar\n",
    "## Kendi veri tiplerimizi oluşturmak ve bu veri tiplerinden objeler üretmemiz için öncelikle objeleri üreteceğimiz yapıyı tanımlamamız gerekiyor. Bunu tasarladığımız yapıya da sınıf veya ingilizce ismiyle class diyoruz. Şimdi class yapılarını öğrenerek konumuza başlayalım."
   ],
   "cell_type": "markdown",
   "metadata": {}
  },
  {
   "source": [
    "## Sınıflar veya Classlar objelerimizi oluştururken objelerin özelliklerini ve metodlarını tanımladığımız bir yapıdır ve biz herbir objeyi bu yapıya göre üretiriz."
   ],
   "cell_type": "markdown",
   "metadata": {}
  },
  {
   "cell_type": "code",
   "execution_count": 6,
   "metadata": {},
   "outputs": [],
   "source": [
    "# Yeni bir Araba veri tipi oluşturuyoruz.\n",
    "class Araba():\n",
    "    model = \"Toyota Corolla\"\n",
    "    renk = \"Mavi\"            # Sınıfımızın özellikleri (attributes)\n",
    "    beygir_gücü = 105\n",
    "    silindir = 2\n",
    "    Menşei = \"Japonya\""
   ]
  },
  {
   "source": [
    "### Sınıfımızı Pythonda tanımladık. Peki bu sınıftan obje nasıl oluşturacağız ? Bunu da şu şekilde yapabiliyoruz."
   ],
   "cell_type": "markdown",
   "metadata": {}
  },
  {
   "source": [
    "obje_ismi = Sınıf_İsmi(parametreler(opsiyonel))"
   ],
   "cell_type": "markdown",
   "metadata": {}
  },
  {
   "cell_type": "code",
   "execution_count": 7,
   "metadata": {},
   "outputs": [
    {
     "output_type": "stream",
     "name": "stdout",
     "text": [
      "<__main__.Araba object at 0x000001C2717F3FD0>\n"
     ]
    }
   ],
   "source": [
    "arabaobjem =  Araba() # Araba veri tipinden bir \"arabaobjem\" isminde bir obje oluşturduk.\n",
    "\n",
    "print(arabaobjem) # Objemizin veri tipi Araba"
   ]
  },
  {
   "source": [
    "### arabaobjem objesi artık sınıfta tanımladığımız bütün özelliklere (attributes) sahip olmuş oldu. İşte sınıf ve obje üretmek bu şekilde olmaktadır. Peki bu araba objesinin özelliklerinin nasıl görebiliriz ?"
   ],
   "cell_type": "markdown",
   "metadata": {}
  },
  {
   "source": [
    "obje_ismi.özellik_ismi"
   ],
   "cell_type": "markdown",
   "metadata": {}
  },
  {
   "cell_type": "code",
   "execution_count": 8,
   "metadata": {},
   "outputs": [
    {
     "output_type": "stream",
     "name": "stdout",
     "text": [
      "Toyota Corolla\nMavi\n105\n2\nJaponya\n"
     ]
    }
   ],
   "source": [
    "print(arabaobjem.model)\n",
    "print(arabaobjem.renk)\n",
    "print(arabaobjem.beygir_gücü)\n",
    "print(arabaobjem.silindir)\n",
    "print(arabaobjem.Menşei)"
   ]
  },
  {
   "cell_type": "code",
   "execution_count": 9,
   "metadata": {},
   "outputs": [
    {
     "output_type": "stream",
     "name": "stdout",
     "text": [
      "Toyota Corolla\nMavi\n105\n2\nJaponya\n"
     ]
    }
   ],
   "source": [
    "# Şimdi de başka bir Araba objesi oluşturalım.\n",
    "\n",
    "arabaobjem2 = Araba()\n",
    "\n",
    "print (arabaobjem2.model)\n",
    "print (arabaobjem2.renk)\n",
    "print (arabaobjem2.beygir_gücü)\n",
    "print (arabaobjem2.silindir)\n",
    "print (arabaobjem2.Menşei)"
   ]
  },
  {
   "source": [
    "### Burda gördüğümüz gibi oluşturduğumuz objelerin buradaki model,renk vs. gibi özelliklerinin değeri aynıdır. Çünkü aslında burada tanımladığımız özellikler birer sınıf özelliğidir. Yani biz bir obje oluşturduğumuzda bu özelliklerin değerleri varsayılan olarak gelir. Bu özelliklerin değerlerine , herhangi bir obje oluşturmadan da erişebiliriz. Bunu da şu şekilde yapabiliriz."
   ],
   "cell_type": "markdown",
   "metadata": {}
  },
  {
   "cell_type": "code",
   "execution_count": 10,
   "metadata": {},
   "outputs": [
    {
     "output_type": "stream",
     "name": "stdout",
     "text": [
      "Mavi\nToyota Corolla\nJaponya\n"
     ]
    }
   ],
   "source": [
    "print(Araba.renk)\n",
    "print(Araba.model)\n",
    "print(Araba.Menşei)"
   ]
  },
  {
   "source": [
    "### Bizim her bir objeyi başlangıçta farklı değerlerle oluşturmamız için her bir objeyi oluştururken objelerin değerlerini göndermemiz gerekiyor. Bunun için de özel bir metodu kullanmamız gerekmektedir."
   ],
   "cell_type": "markdown",
   "metadata": {}
  },
  {
   "source": [
    "__init__()"
   ],
   "cell_type": "markdown",
   "metadata": {}
  },
  {
   "source": [
    "### Peki bu metod ne anlama geliyor ? İsterseniz ilk olarak dir() fonksiyonu yardımıyla araba1 objemizde neler var bakalım."
   ],
   "cell_type": "markdown",
   "metadata": {}
  },
  {
   "cell_type": "code",
   "execution_count": 11,
   "metadata": {},
   "outputs": [
    {
     "output_type": "stream",
     "name": "stdout",
     "text": [
      "['Menşei', '__class__', '__delattr__', '__dict__', '__dir__', '__doc__', '__eq__', '__format__', '__ge__', '__getattribute__', '__gt__', '__hash__', '__init__', '__init_subclass__', '__le__', '__lt__', '__module__', '__ne__', '__new__', '__reduce__', '__reduce_ex__', '__repr__', '__setattr__', '__sizeof__', '__str__', '__subclasshook__', '__weakref__', 'beygir_gücü', 'model', 'renk', 'silindir']\n"
     ]
    }
   ],
   "source": [
    "print(dir(arabaobjem))"
   ]
  },
  {
   "source": [
    "## Burada objemizin tüm özelliklerini ve metodlarını görüyoruz. Ancak biz herhangi bir metod tanımlamamıştır. Buradaki metodlar Python tarafından bir obje oluşturulduğunda özel olarak tanımlanan metodlardır ve biz eğer özel olarak bunları tanımlamazsak Python kendisi bunları varsayılan tanımlıyor. Burada aynı zamanda init metodunu da görüyoruz. Eğer biz bu metodu kendimiz tanımlarsak objelerimizi farklı değerlerle başlatabiliriz."
   ],
   "cell_type": "markdown",
   "metadata": {}
  },
  {
   "source": [
    "### Aslında init metodu Pythonda yapıcı(constructor) fonksiyon olarak tanımlanmaktadır. Bu metod objelerimiz oluşturulurken otomatik olarak ilk çağrılan fonksiyondur. Bu metodu özel olarak tanımlayarak objelerimizi farklı değerlerle oluşturabiliriz.\n",
    "\n",
    "Peki bu metodu nasıl tanımlayacağız ? Direk örnek üzerinden görmeye çalışalım."
   ],
   "cell_type": "markdown",
   "metadata": {}
  },
  {
   "cell_type": "code",
   "execution_count": 12,
   "metadata": {},
   "outputs": [
    {
     "output_type": "stream",
     "name": "stdout",
     "text": [
      "init fonksiyonu çağrıldı.\n"
     ]
    }
   ],
   "source": [
    "# Araba Veri tipi \n",
    "\n",
    "class Araba():\n",
    "    # Şimdilik Class özelliklerine ihtiyacımız yok.\n",
    "    \n",
    "    def __init__(self):\n",
    "        print(\"init fonksiyonu çağrıldı.\")\n",
    "\n",
    "arabaobjem3 = Araba() # arabaobjem3 objesi oluşurken otomatik olarak __init__ metodumuz çağrılıyor."
   ]
  },
  {
   "source": [
    "## Peki burada self ne anlama geliyor ? self anahtar kelimesi objeyi oluşturduğumuz zaman o objeyi gösteren bir referanstır ve metodlarımızda en başta bulunması gereken bir parametredir. Yani biz bir objenin bütün özelliklerini ve metodlarını bu referans üzerinden kullanabiliriz.\n",
    "\n"
   ],
   "cell_type": "markdown",
   "metadata": {}
  },
  {
   "source": [
    "## Objeler oluşturulurken, Python bu referansı metodlara otomatik olarak kendisi gönderir. Özel olarak self referansını göndermemize gerek yoktur."
   ],
   "cell_type": "markdown",
   "metadata": {}
  },
  {
   "cell_type": "code",
   "execution_count": 14,
   "metadata": {},
   "outputs": [
    {
     "output_type": "stream",
     "name": "stdout",
     "text": [
      "Peugeot 301\nBeyaz\nRenault Megane\nGümüş\n"
     ]
    }
   ],
   "source": [
    "class Araba():\n",
    "    \n",
    "    def __init__(self,model,renk,beygir_gücü,silindir): # Parametrelerimizin değerlerini objelerimizi oluştururken göndereceğiz.\n",
    "        self.model =  model # self.özellik_ismi = parametre değeri şeklinde objemizin model özelliğine değeri atıyoruz.\n",
    "        self.renk = renk # self.özellik_ismi = parametre değeri şeklinde objemizin renk özelliğine değeri atıyoruz.\n",
    "        self.beygir_gücü = beygir_gücü # self.özellik_ismi = parametre değeri şeklinde objemizin beygir_gücü özelliğine değeri atıyoruz.\n",
    "        self.silindir = silindir # self.özellik_ismi = parametre değeri şeklinde objemizin silndir özelliğine değeri atıyoruz.\n",
    "\n",
    "\n",
    "\n",
    "# arabaobjem4 objesini oluşturalım.\n",
    "\n",
    "# Artık değerlerimizi göndererek objelerimizin özelliklerini istediğimiz değerle başlatabiliriz.\n",
    "arabaobjem4 = Araba(\"Peugeot 301\",\"Beyaz\",90,4) \n",
    "\n",
    "# arabaobjem5 objesini oluşturalım.\n",
    "arabaobjem5 = Araba(\"Renault Megane\",\"Gümüş\",110,4)\n",
    "\n",
    "print(arabaobjem4.model)\n",
    "print(arabaobjem4.renk)\n",
    "print(arabaobjem5.model)\n",
    "print(arabaobjem5.renk)\n"
   ]
  },
  {
   "source": [
    "## İstersek init metodunu varsayılan değerlerle de yazabiliriz."
   ],
   "cell_type": "markdown",
   "metadata": {}
  },
  {
   "cell_type": "code",
   "execution_count": 16,
   "metadata": {},
   "outputs": [
    {
     "output_type": "stream",
     "name": "stdout",
     "text": [
      "Siyah\nBilgi Yok\n"
     ]
    }
   ],
   "source": [
    "class Araba():\n",
    "    \n",
    "    def __init__(self , model = \"Bilgi Yok\",renk = \"Bilgi Yok\",beygir_gücü = 75 ,silindir = 4): \n",
    "        self.model =  model \n",
    "        self.renk = renk \n",
    "        self.beygir_gücü = beygir_gücü \n",
    "        self.silindir = silindir\n",
    "\n",
    "arabaobjem6 = Araba(beygir_gücü = 85, renk = \"Siyah\")\n",
    "print(arabaobjem6.renk)\n",
    "print(arabaobjem6.model)"
   ]
  },
  {
   "source": [
    "## İşte burada gördüğümüz gibi bir objeyi init metodunu kendimiz yazarak farklı değerlerle oluşturabiliyoruz"
   ],
   "cell_type": "markdown",
   "metadata": {}
  },
  {
   "source": [
    "# Metotlar"
   ],
   "cell_type": "markdown",
   "metadata": {}
  },
  {
   "source": [
    "## Bu yazıda bir sınıf içinde metodlarımızı nasıl tanımlayacağımızı öğrenmeye çalışacağız. Bunun için ilk olarak bir Yazılımcı sınıfı tanımlayalım."
   ],
   "cell_type": "markdown",
   "metadata": {}
  },
  {
   "cell_type": "code",
   "execution_count": 18,
   "metadata": {},
   "outputs": [],
   "source": [
    "class Yazılımcı():\n",
    "    \n",
    "    def __init__(self,isim,soyisim,numara,maaş,diller):\n",
    "        self.isim = isim\n",
    "        self.soyisim = soyisim\n",
    "        self.numara = numara    # Yazılımcı objelerinin özellikleri \n",
    "        self.maaş = maaş\n",
    "        self.diller = diller\n",
    "\n",
    "# yazılımcı1 objesi\n",
    "yazılımcı1 =  Yazılımcı(\"Onur\",\"Bolatoğlu\",12345,3000,[\"Python\",\"C\",\"Java\"])\n",
    "\n",
    "yazılımcı2 = Yazılımcı(\"Serhat\",\"Say\",23456,3500,[\"Matlab\",\"R\",\"SmallTalk\"])"
   ]
  },
  {
   "source": [
    "## Önceki dersten bunların nasıl yapıldığını biliyoruz. Peki bu class’a metodlarımızı nasıl tanımlayabiliriz ? Aynı init metodunu tanımladığımız gibi bir class’a da istediğimiz kadar metod tanımlayabiliriz. Örneğin ,Yazılımcı classına bilgilerigöster isimli bir metod tanımlayalım."
   ],
   "cell_type": "markdown",
   "metadata": {}
  },
  {
   "cell_type": "code",
   "execution_count": 19,
   "metadata": {},
   "outputs": [
    {
     "output_type": "stream",
     "name": "stdout",
     "text": [
      "\n        Çalışan Bilgisi:\n        \n        İsim :  Onur\n        \n        Soyisim : Bolatoğlu\n        \n        Şirket Numarası: 12345\n        \n        Maaş :  3000\n        \n        Diller: ['Python', 'C', 'Java']\n        \n"
     ]
    }
   ],
   "source": [
    "class Yazılımcı():\n",
    "    \n",
    "    def __init__(self,isim,soyisim,numara,maaş,diller):\n",
    "        self.isim = isim\n",
    "        self.soyisim = soyisim\n",
    "        self.numara = numara    # Yazılımcı objelerinin özellikleri \n",
    "        self.maaş = maaş\n",
    "        self.diller = diller\n",
    "    def bilgilerigöster(self):\n",
    "        print(\"\"\"\n",
    "        Çalışan Bilgisi:\n",
    "        \n",
    "        İsim :  {}\n",
    "        \n",
    "        Soyisim : {}\n",
    "        \n",
    "        Şirket Numarası: {}\n",
    "        \n",
    "        Maaş :  {}\n",
    "        \n",
    "        Diller: {}\n",
    "        \"\"\".format(self.isim,self.soyisim,self.numara,self.maaş,self.diller))\n",
    "\n",
    "yazılımcı1 =  Yazılımcı(\"Onur\",\"Bolatoğlu\",12345,3000,[\"Python\",\"C\",\"Java\"])\n",
    "\n",
    "yazılımcı1.bilgilerigöster()"
   ]
  },
  {
   "source": [
    "## Burada bilgilerigöster isimli metod tanımlayarak her bir özelliğimizin değeri ekrana derli toplu bir şekilde yazdırmış olduk. Metodlarımızı yazarken dikkat etmemiz gerek nokta, her metodun birinci parametresinin self referansı olması gerektiğidir. Ayrıca objelerimizin özelliklerine mutlaka self referansıyla erişmemiz gerekiyor.İsterseniz bu classa 2 tane daha metod yazalım."
   ],
   "cell_type": "markdown",
   "metadata": {}
  },
  {
   "cell_type": "code",
   "execution_count": 21,
   "metadata": {},
   "outputs": [
    {
     "output_type": "stream",
     "name": "stdout",
     "text": [
      "\n        Çalışan Bilgisi:\n        \n        İsim :  Onur\n        \n        Soyisim : Bolatoglu\n        \n        Şirket Numarası: 12345\n        \n        Maaş :  3000\n        \n        Diller: ['Python', 'C', 'Java']\n        \n"
     ]
    }
   ],
   "source": [
    "class Yazılımcı():\n",
    "    \n",
    "    def __init__(self,isim,soyisim,numara,maaş,diller):\n",
    "        self.isim = isim\n",
    "        self.soyisim = soyisim\n",
    "        self.numara = numara    # Yazılımcı objelerinin özellikleri \n",
    "        self.maaş = maaş\n",
    "        self.diller = diller\n",
    "    def bilgilerigöster(self):\n",
    "        print(\"\"\"\n",
    "        Çalışan Bilgisi:\n",
    "        \n",
    "        İsim :  {}\n",
    "        \n",
    "        Soyisim : {}\n",
    "        \n",
    "        Şirket Numarası: {}\n",
    "        \n",
    "        Maaş :  {}\n",
    "        \n",
    "        Diller: {}\n",
    "        \"\"\".format(self.isim,self.soyisim,self.numara,self.maaş,self.diller))\n",
    "    def dil_ekle(self,yeni_dil):\n",
    "        print(\"Dil ekleniyor.\")\n",
    "        self.diller.append(yeni_dil)\n",
    "    def maas_yukselt(self,zam_miktarı):\n",
    "        print(\"Maaş yükseliyor...\")\n",
    "        \n",
    "        self.maaş += zam_miktarı\n",
    " \n",
    "yazılımcı1 =  Yazılımcı(\"Onur\",\"Bolatoglu\",12345,3000,[\"Python\",\"C\",\"Java\"])\n",
    "yazılımcı1.bilgilerigöster()\n",
    " "
   ]
  },
  {
   "cell_type": "code",
   "execution_count": 22,
   "metadata": {},
   "outputs": [
    {
     "output_type": "stream",
     "name": "stdout",
     "text": [
      "Maaş yükseliyor...\n"
     ]
    }
   ],
   "source": [
    "yazılımcı1.maas_yukselt(200)"
   ]
  },
  {
   "cell_type": "code",
   "execution_count": 24,
   "metadata": {},
   "outputs": [
    {
     "output_type": "stream",
     "name": "stdout",
     "text": [
      "\n        Çalışan Bilgisi:\n        \n        İsim :  Onur\n        \n        Soyisim : Bolatoglu\n        \n        Şirket Numarası: 12345\n        \n        Maaş :  3200\n        \n        Diller: ['Python', 'C', 'Java']\n        \n"
     ]
    }
   ],
   "source": [
    "yazılımcı1.bilgilerigöster()"
   ]
  },
  {
   "cell_type": "code",
   "execution_count": 25,
   "metadata": {},
   "outputs": [
    {
     "output_type": "stream",
     "name": "stdout",
     "text": [
      "Dil ekleniyor.\n"
     ]
    }
   ],
   "source": [
    "yazılımcı1.dil_ekle(\"GoLang\")"
   ]
  },
  {
   "cell_type": "code",
   "execution_count": 26,
   "metadata": {},
   "outputs": [
    {
     "output_type": "stream",
     "name": "stdout",
     "text": [
      "\n        Çalışan Bilgisi:\n        \n        İsim :  Onur\n        \n        Soyisim : Bolatoglu\n        \n        Şirket Numarası: 12345\n        \n        Maaş :  3200\n        \n        Diller: ['Python', 'C', 'Java', 'GoLang']\n        \n"
     ]
    }
   ],
   "source": [
    "yazılımcı1.bilgilerigöster()"
   ]
  },
  {
   "cell_type": "code",
   "execution_count": 27,
   "metadata": {},
   "outputs": [
    {
     "output_type": "execute_result",
     "data": {
      "text/plain": [
       "<bound method Yazılımcı.bilgilerigöster of <__main__.Yazılımcı object at 0x000001A49B2B7DF0>>"
      ]
     },
     "metadata": {},
     "execution_count": 27
    }
   ],
   "source": [
    "yazılımcı1.bilgilerigöster"
   ]
  },
  {
   "cell_type": "code",
   "execution_count": 28,
   "metadata": {},
   "outputs": [
    {
     "output_type": "stream",
     "name": "stdout",
     "text": [
      "\n        Çalışan Bilgisi:\n        \n        İsim :  Onur\n        \n        Soyisim : Bolatoglu\n        \n        Şirket Numarası: 12345\n        \n        Maaş :  3200\n        \n        Diller: ['Python', 'C', 'Java', 'GoLang']\n        \n"
     ]
    }
   ],
   "source": [
    "yazılımcı1.bilgilerigöster()"
   ]
  },
  {
   "cell_type": "code",
   "execution_count": 29,
   "metadata": {},
   "outputs": [
    {
     "output_type": "stream",
     "name": "stdout",
     "text": [
      "Dil ekleniyor.\nMaaş yükseliyor...\n"
     ]
    }
   ],
   "source": [
    "yazılımcı1.dil_ekle(\"Javascript\")\n",
    "yazılımcı1.maas_yukselt(800)"
   ]
  },
  {
   "cell_type": "code",
   "execution_count": 30,
   "metadata": {},
   "outputs": [
    {
     "output_type": "stream",
     "name": "stdout",
     "text": [
      "\n        Çalışan Bilgisi:\n        \n        İsim :  Onur\n        \n        Soyisim : Bolatoglu\n        \n        Şirket Numarası: 12345\n        \n        Maaş :  4000\n        \n        Diller: ['Python', 'C', 'Java', 'GoLang', 'Javascript']\n        \n"
     ]
    }
   ],
   "source": [
    "yazılımcı1.bilgilerigöster()"
   ]
  },
  {
   "source": [
    "## Nesne Yönelimli Programlama – Özel Metodlar\n",
    "\n",
    "### Nesne yönelimli programlamada son olarak sınıfların özel metodlarını nasıl kendimiz yazarız öğrenmeye çalışalım. Özel metodlar, daha önceden de bahsettiğimiz gibi bizim özel olarak çağırmadığımız ancak her classa ait metodlardır. Bunların çoğu biz tanımlamasak bile Python tarafından varsayılan olarak tanımlanır. Ancak bu metodların bazılarını da özel olarak bizim tanımlamamız gerekmektedir. Daha önceden gördüğümüz init metodu bu metodlara bir örnektir. Bu konuda bu metodlarını nasıl tanımlayacağımızı öğrenmeye çalışacağız. Şimdi örneklerimize geçelim."
   ],
   "cell_type": "markdown",
   "metadata": {}
  },
  {
   "cell_type": "code",
   "execution_count": 1,
   "metadata": {},
   "outputs": [
    {
     "output_type": "error",
     "ename": "NameError",
     "evalue": "name 'kitap' is not defined",
     "traceback": [
      "\u001b[1;31m---------------------------------------------------------------------------\u001b[0m",
      "\u001b[1;31mNameError\u001b[0m                                 Traceback (most recent call last)",
      "\u001b[1;32m<ipython-input-1-85ed1a7fb855>\u001b[0m in \u001b[0;36m<module>\u001b[1;34m\u001b[0m\n\u001b[0;32m      4\u001b[0m \u001b[0mkitap1\u001b[0m \u001b[1;33m=\u001b[0m \u001b[0mKitap\u001b[0m\u001b[1;33m(\u001b[0m\u001b[1;33m)\u001b[0m \u001b[1;31m# __init__ metodu çağrılıyor.\u001b[0m\u001b[1;33m\u001b[0m\u001b[1;33m\u001b[0m\u001b[0m\n\u001b[0;32m      5\u001b[0m \u001b[1;33m\u001b[0m\u001b[0m\n\u001b[1;32m----> 6\u001b[1;33m \u001b[0mprint\u001b[0m\u001b[1;33m(\u001b[0m\u001b[0mlen\u001b[0m\u001b[1;33m(\u001b[0m\u001b[0mkitap\u001b[0m\u001b[1;33m)\u001b[0m\u001b[1;33m)\u001b[0m \u001b[1;31m# __len__ metodu çağrılacak ancak tanımlı değil. Bunu özellikle bizim tanımlamamız gerekiyor.\u001b[0m\u001b[1;33m\u001b[0m\u001b[1;33m\u001b[0m\u001b[0m\n\u001b[0m",
      "\u001b[1;31mNameError\u001b[0m: name 'kitap' is not defined"
     ]
    }
   ],
   "source": [
    "class Kitap():\n",
    "    pass\n",
    "\n",
    "kitap1 = Kitap() # __init__ metodu çağrılıyor.\n",
    "\n",
    "print(len(kitap)) # __len__ metodu çağrılacak ancak tanımlı değil. Bunu özellikle bizim tanımlamamız gerekiyor."
   ]
  },
  {
   "cell_type": "code",
   "execution_count": 2,
   "metadata": {},
   "outputs": [
    {
     "output_type": "stream",
     "name": "stdout",
     "text": [
      "<__main__.Kitap object at 0x000001ED8993C1C0>\n"
     ]
    }
   ],
   "source": [
    "print(kitap1) # __str__ metodu çağrılır."
   ]
  },
  {
   "cell_type": "code",
   "execution_count": 3,
   "metadata": {},
   "outputs": [],
   "source": [
    "del kitap1 # del anahtar kelimesi bir objeyi siler ve __del__ metodu çağrılır. "
   ]
  },
  {
   "cell_type": "code",
   "execution_count": 4,
   "metadata": {},
   "outputs": [
    {
     "output_type": "stream",
     "name": "stdout",
     "text": [
      "Kitap Objesi oluşuyor....\n"
     ]
    }
   ],
   "source": [
    "class Kitap():\n",
    "    def __init__(self,isim,yazar,sayfa_sayısı,tür): \n",
    "        print(\"Kitap Objesi oluşuyor....\")\n",
    "        self.isim = isim\n",
    "        self.yazar = yazar\n",
    "        self.sayfa_sayısı = sayfa_sayısı\n",
    "        self.tür = tür\n",
    "\n",
    "kitap1 = Kitap(\"İstanbul Hatırası\",\"Ahmet Ümit\",561,\"Polisiye\") # Kendi metodumuz "
   ]
  },
  {
   "source": [
    "## str metodu\n",
    "\n",
    "## Normalde print(kitap1) ifadesi ekrana şöyle bir yazı yazdırıyor."
   ],
   "cell_type": "markdown",
   "metadata": {}
  },
  {
   "cell_type": "code",
   "execution_count": 6,
   "metadata": {},
   "outputs": [
    {
     "output_type": "stream",
     "name": "stdout",
     "text": [
      "<__main__.Kitap object at 0x000001ED899F3280>\n"
     ]
    }
   ],
   "source": [
    "print(kitap1)"
   ]
  },
  {
   "source": [
    "### Ancak eğer str metodunu kendimiz tanımlarsak artık ekrana kitap1 in içeriğini daha anlaşılır yazabileceğiz."
   ],
   "cell_type": "markdown",
   "metadata": {}
  },
  {
   "cell_type": "code",
   "execution_count": 7,
   "metadata": {},
   "outputs": [],
   "source": [
    "class Kitap():\n",
    "    def __init__(self,isim,yazar,sayfa_sayısı,tür): \n",
    "        print(\"Kitap Objesi oluşuyor....\")\n",
    "        self.isim = isim\n",
    "        self.yazar = yazar\n",
    "        self.sayfa_sayısı = sayfa_sayısı\n",
    "        self.tür = tür\n",
    "    def __str__(self):\n",
    "        # Return kullanmamız gerekli\n",
    "        return \"İsim: {}\\nYazar: {}\\nSayfa Sayısı: {}\\nTür: {}\".format(self.isim,self.yazar,self.sayfa_sayısı,self.tür)"
   ]
  },
  {
   "cell_type": "code",
   "execution_count": 8,
   "metadata": {},
   "outputs": [
    {
     "output_type": "stream",
     "name": "stdout",
     "text": [
      "Kitap Objesi oluşuyor....\nİsim: İstanbul Hatırası\nYazar: Ahmet Ümit\nSayfa Sayısı: 561\nTür: Polisiye\n"
     ]
    }
   ],
   "source": [
    "kitap1 = Kitap(\"İstanbul Hatırası\",\"Ahmet Ümit\",561,\"Polisiye\")\n",
    "print(kitap1)"
   ]
  },
  {
   "source": [
    "## len metodu\n",
    "\n",
    "### len metodu normalde özel olarak biz tanımlamazsak tanımlanan bir metod değil. Onun için bu metodu kendimiz tanımlamamız gereklidir."
   ],
   "cell_type": "markdown",
   "metadata": {}
  },
  {
   "cell_type": "code",
   "execution_count": 9,
   "metadata": {},
   "outputs": [
    {
     "output_type": "stream",
     "name": "stdout",
     "text": [
      "Kitap Objesi oluşuyor....\n561\n"
     ]
    }
   ],
   "source": [
    "class Kitap():\n",
    "    def __init__(self,isim,yazar,sayfa_sayısı,tür): \n",
    "        print(\"Kitap Objesi oluşuyor....\")\n",
    "        self.isim = isim\n",
    "        self.yazar = yazar\n",
    "        self.sayfa_sayısı = sayfa_sayısı\n",
    "        self.tür = tür\n",
    "    def __str__(self):\n",
    "        # Return kullanmamız gerekli\n",
    "        return \"İsim: {}\\nYazar: {}\\nSayfa Sayısı: {}\\nTür: {}\".format(self.isim,self.yazar,self.sayfa_sayısı,self.tür)\n",
    "    def __len__(self):\n",
    "        return self.sayfa_sayısı\n",
    "\n",
    "kitap1 = Kitap(\"İstanbul Hatırası\",\"Ahmet Ümit\",561,\"Polisiye\")\n",
    "print(len(kitap1)) # KEndi __len__ metodumuz çağrıldı."
   ]
  },
  {
   "source": [
    "## del metodu\n",
    "### del metodu Pythonda bir objeyi del anahtar kelimesiyle sildiğimiz zaman çalıştırılan metoddur. Bu metodu kendimiz tanımlayarak ekstra özellikler ekleyebiliriz."
   ],
   "cell_type": "markdown",
   "metadata": {}
  },
  {
   "cell_type": "code",
   "execution_count": null,
   "metadata": {},
   "outputs": [],
   "source": [
    "class Kitap():\n",
    "    def __init__(self,isim,yazar,sayfa_sayısı,tür): \n",
    "        print(\"Kitap Objesi oluşuyor....\")\n",
    "        self.isim = isim\n",
    "        self.yazar = yazar\n",
    "        self.sayfa_sayısı = sayfa_sayısı\n",
    "        self.tür = tür\n",
    "    def __str__(self):\n",
    "        # Return kullanmamız gerekli\n",
    "        return \"İsim: {}\\nYazar: {}\\nSayfa Sayısı: {}\\nTür: {}\".format(self.isim,self.yazar,self.sayfa_sayısı,self.tür)\n",
    "    def __len__(self):\n",
    "        return self.sayfa_sayısı\n",
    "    def __del__(self):\n",
    "        print(\"Kitap objesi siliniyor.......\")\n",
    "\n",
    "kitap1 = Kitap(\"İstanbul Hatırası\",\"Ahmet Ümit\",561,\"Polisiye\")\n",
    "\n",
    "del kitap1"
   ]
  },
  {
   "cell_type": "code",
   "execution_count": 14,
   "metadata": {},
   "outputs": [
    {
     "output_type": "stream",
     "name": "stdout",
     "text": [
      "Kitap Objesi oluşuyor....\n5621\n"
     ]
    }
   ],
   "source": [
    "class Defter(Kitap): #Kitap sınıfını yeni bir defter sınıfı adında sınıf oluştururken özelliklerini ve metotlarını kullanabilmemiz için () parantez içine özelliklerini ve metotlarını almasını istediğimiz sınıfımızı yazıyoruz. yani biz Kitap sınıfının özelliklerini ve metotlarını yeni oluşturduğumuz sınıfta görmek istediğimiz için parantez içine Kitap sınıfını yazdık ve Kitap sınıfında kullanılan tüm metotları kullanabildik.\n",
    "    def __init__(self,isim,yazar,sayfa_sayısı,tür): \n",
    "        print(\"Kitap Objesi oluşuyor....\")\n",
    "        self.isim = isim\n",
    "        self.yazar = yazar\n",
    "        self.sayfa_sayısı = sayfa_sayısı\n",
    "        self.tür = tür\n",
    "\n",
    "defter1 = Defter(\"Kareli\",\"Ahmet Ümit\",5621,\"Matematik\")\n",
    "print(len(defter1)) # KEndi __len__ metodumuz çağrıldı."
   ]
  },
  {
   "cell_type": "code",
   "execution_count": 15,
   "metadata": {},
   "outputs": [
    {
     "output_type": "stream",
     "name": "stdout",
     "text": [
      "İsim: Kareli\nYazar: Ahmet Ümit\nSayfa Sayısı: 5621\nTür: Matematik\n"
     ]
    }
   ],
   "source": [
    "print(defter1)"
   ]
  },
  {
   "cell_type": "code",
   "execution_count": null,
   "metadata": {},
   "outputs": [],
   "source": []
  }
 ]
}